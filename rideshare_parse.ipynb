{
 "cells": [
  {
   "cell_type": "code",
   "execution_count": 18,
   "metadata": {
    "collapsed": true
   },
   "outputs": [],
   "source": [
    "import pandas as pd\n",
    "import time\n",
    "import pickle\n",
    "import re"
   ]
  },
  {
   "cell_type": "code",
   "execution_count": 2,
   "metadata": {
    "collapsed": true
   },
   "outputs": [],
   "source": [
    "with open('./data/houston.pkl', 'r') as f:\n",
    "    df = pickle.load(f)"
   ]
  },
  {
   "cell_type": "markdown",
   "metadata": {},
   "source": [
    "### TODO:"
   ]
  },
  {
   "cell_type": "code",
   "execution_count": null,
   "metadata": {
    "collapsed": true
   },
   "outputs": [],
   "source": [
    "# detect dates\n",
    "# keywords like: today, tomorrow, days of the week\n",
    "# search for numbers and try to match to date format"
   ]
  },
  {
   "cell_type": "code",
   "execution_count": null,
   "metadata": {
    "collapsed": true
   },
   "outputs": [],
   "source": [
    "# measure \"flexibility\" or rather, a probability rating that ride dates are flexible"
   ]
  },
  {
   "cell_type": "code",
   "execution_count": 49,
   "metadata": {
    "collapsed": false
   },
   "outputs": [
    {
     "name": "stdout",
     "output_type": "stream",
     "text": [
      "{'to': 'functions', 'from': None}\n",
      "{'to': u'functions', 'from': None}\n",
      "{'to': u'functions', 'from': None}\n",
      "{'to': u'clear', 'from': None}\n",
      "{'to': u'Austin', 'from': u'Houston'}\n",
      "{'to': u'the', 'from': u'stretch'}\n",
      "{'to': u'be', 'from': None}\n",
      "{'to': None, 'from': None}\n",
      "{'to': None, 'from': None}\n",
      "{'to': u'Austin', 'from': None}\n",
      "{'to': u'help', 'from': None}\n"
     ]
    }
   ],
   "source": [
    "# detect locations\n",
    "# can start with assumption that origin is the city in which posting is posted\n",
    "\n",
    "test = \"For trips to functions and jobs call jason. For cheap, fast and reliable transport to all parts of Houston city, call Jason show contact infoquality service is guaranteed.\"\n",
    "\n",
    "def parse_locations(s):\n",
    "    from_location = None\n",
    "    to_location = None\n",
    "    \n",
    "    if \" from \" in s:\n",
    "        from_location = s.partition(' from ')[2].split()[0].strip()\n",
    "    if \" to \" in s:\n",
    "        to_location = s.partition(' to ')[2].split()[0].strip()\n",
    "        \n",
    "    dict_locations = {'from':from_location,'to':to_location}\n",
    "    return dict_locations\n",
    "\n",
    "print parse_locations(test)\n",
    "\n",
    "for text in df.text.drop_duplicates(keep='first')[:10]:\n",
    "    print parse_locations(text)"
   ]
  },
  {
   "cell_type": "code",
   "execution_count": null,
   "metadata": {
    "collapsed": true
   },
   "outputs": [],
   "source": [
    "# label professional vs personal offers, specific dates vs open dates (see: flexibility)"
   ]
  },
  {
   "cell_type": "code",
   "execution_count": 47,
   "metadata": {
    "collapsed": false
   },
   "outputs": [
    {
     "data": {
      "text/plain": [
       "0     For trips to functions and jobs call jason. Fo...\n",
       "2     For trips to functions and jobs call jason. Fo...\n",
       "3     I posted once before, seeking ride to clear up...\n",
       "4     Yo!I will be flying into Houston around noon o...\n",
       "5     Pink Limo Houston Limousines Wedding - Prom - ...\n",
       "6     Female needs transportation for herself and he...\n",
       "7     Hurry ends soon.....Make over $2500 a dayFast ...\n",
       "8     Fast income now.....Make over $3000 a day fast...\n",
       "9     Headed up to Austin on Wednesday. I have a lit...\n",
       "10    Hello. I'm offering transportation services in...\n",
       "11    I drive all times of the day & night. Usually ...\n",
       "12    In need of a ride ? Offering transportation in...\n",
       "14    Introducing SmartRiderz.com. Ride Sharing just...\n",
       "17    For trips to functions and jobs call jason. Fo...\n",
       "18    Looking for a ride to Michigan asap have gas m...\n",
       "19    In need of a ride ? Offering transportation in...\n",
       "20    I dont work i dont go to school i stay home i ...\n",
       "23    Hi! Tomorrow (4/12/16) I need someone to take ...\n",
       "24    I'm ready right now to take up to 4 to those c...\n",
       "25    To work, appointment, shopping, or wherever yo...\n",
       "26    Door to Door Service very cheap very nice car ...\n",
       "27    Today only I will take you to Dallas Ft Worth,...\n",
       "28    I will take you anywhere in Houston today and ...\n",
       "29    You need a ride out of Houston or in Houston c...\n",
       "30    leaving april 14, can transport goods for cash...\n",
       "31    Im a disabled amputee needs a good samaratan t...\n",
       "32    you need to get to el paso, las cruces, tucson...\n",
       "33    Hi y'all,I'm looking for a ride from Houston t...\n",
       "34    For safe and guaranteed arrival to all parts o...\n",
       "37    Hi!.. Do you need a Ride?I'm a Friendly and tr...\n",
       "Name: text, dtype: object"
      ]
     },
     "execution_count": 47,
     "metadata": {},
     "output_type": "execute_result"
    }
   ],
   "source": [
    "# detect duplicates and only display latest\n",
    "df.text.drop_duplicates(keep='first')[:30]"
   ]
  },
  {
   "cell_type": "code",
   "execution_count": null,
   "metadata": {
    "collapsed": true
   },
   "outputs": [],
   "source": []
  }
 ],
 "metadata": {
  "kernelspec": {
   "display_name": "Python 2",
   "language": "python",
   "name": "python2"
  },
  "language_info": {
   "codemirror_mode": {
    "name": "ipython",
    "version": 2
   },
   "file_extension": ".py",
   "mimetype": "text/x-python",
   "name": "python",
   "nbconvert_exporter": "python",
   "pygments_lexer": "ipython2",
   "version": "2.7.10"
  }
 },
 "nbformat": 4,
 "nbformat_minor": 0
}
